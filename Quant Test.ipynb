{
 "cells": [
  {
   "cell_type": "code",
   "execution_count": 1,
   "id": "5254b703",
   "metadata": {},
   "outputs": [],
   "source": [
    "import yfinance as yf\n",
    "import numpy as np\n",
    "import pandas as pd"
   ]
  },
  {
   "cell_type": "code",
   "execution_count": 2,
   "id": "3a560c0b",
   "metadata": {},
   "outputs": [],
   "source": [
    "port1_tickers = [\"GLEN.L\", \"MRW.L\", \"AZN\"]\n",
    "port2_tickers = [\"LGEN.L\", \"TSCO\", \"GSK\"]"
   ]
  },
  {
   "cell_type": "code",
   "execution_count": 3,
   "id": "dbe46f35",
   "metadata": {},
   "outputs": [],
   "source": [
    "# the function aims to calculate a stock's daily return, \n",
    "# by giving the stock and its weight with in a portfolio\n",
    "def stock_return(ticker, weight):\n",
    "    stock_df = yf.download(ticker, start='2021-01-01', end='2021-10-15') # get data from yfinance\n",
    "    # calculate the daily weighted return by using the daily close price\n",
    "    daily_returns = weight * stock_df['Close'].pct_change()\n",
    "    return daily_returns"
   ]
  },
  {
   "cell_type": "code",
   "execution_count": 4,
   "id": "d8b3f5cf",
   "metadata": {},
   "outputs": [],
   "source": [
    "# the function aims to transform the data into usable dataset that can be used for my following code\n",
    "def transform_data(ticker, weight):\n",
    "    stock_return_dict = dict()\n",
    "    key_list = []\n",
    "    val_list = []\n",
    "    return_d = stock_return(ticker, weight).to_dict()\n",
    "    for key in return_d.keys():\n",
    "        key_list.append(key)\n",
    "    stock_return_dict[\"Date\"] = key_list\n",
    "    for val in return_d.values():\n",
    "        val_list.append(val)\n",
    "    stock_return_dict[ticker + \"'s\" + \" weighted return\"] = val_list\n",
    "    df = pd.DataFrame(stock_return_dict)\n",
    "    return df # a two column dataframe with date in the first column, \n",
    "              # and the second column shows the stock's weighted return"
   ]
  },
  {
   "cell_type": "code",
   "execution_count": 5,
   "id": "fcfcafda",
   "metadata": {
    "scrolled": true
   },
   "outputs": [],
   "source": [
    "# the function calculates the portfolio return\n",
    "# input a list that comprises the name of the portfolio, and a list of the weight of a stock\n",
    "def portfolio_return(tickers, weight_vector):\n",
    "    df_list = []\n",
    "    for ticker_index in range(len(tickers)):\n",
    "        dframe = transform_data(tickers[ticker_index], weight_vector[ticker_index])\n",
    "        df_list.append(dframe)\n",
    "    df0 = df_list[0]\n",
    "    df0[\"portfolio return\"] = 0\n",
    "    for i in range(1, len(df_list)):\n",
    "        df0 = df0.merge(df_list[i], how='left', left_on = 'Date', right_on = 'Date')\n",
    "        df0[\"portfolio return\"] = df0[\"portfolio return\"] + df0.iloc[:,i]\n",
    "    pr = df0[['Date', 'portfolio return']]\n",
    "    return pr # a two column dataframe with the first column records the date,\n",
    "              # and the second column reveals the portfolio return"
   ]
  },
  {
   "cell_type": "code",
   "execution_count": 6,
   "id": "6bf6ee96",
   "metadata": {},
   "outputs": [],
   "source": [
    "# the function calculates the standard deviation of negative asset returns\n",
    "# input the list that contains the names of the portfolios,\n",
    "# and the list that includes the weight of each stock\n",
    "def negative_return_std(tickers, weight_vector):\n",
    "    port_return = portfolio_return(tickers, weight_vector)\n",
    "    negative_return = port_return[port_return['portfolio return'] < 0]\n",
    "    standard_deviation = negative_return['portfolio return'].std()\n",
    "    return standard_deviation "
   ]
  },
  {
   "cell_type": "code",
   "execution_count": 7,
   "id": "e1483999",
   "metadata": {},
   "outputs": [],
   "source": [
    "# the function calculates the sortino ratio and return a dataframe with the corresponding date\n",
    "# input the the list with the names within the portfolio,\n",
    "# the list of the weight of each stock,\n",
    "# and the sonia rate to calculate the sortino ratio\n",
    "def sortino_ratio(tickers, weight_vector, sonia_rate):\n",
    "    pf_return = portfolio_return(tickers, weight_vector)\n",
    "    std = negative_return_std(tickers, weight_vector)\n",
    "    sortino_ratio = (pf_return['portfolio return'] - sonia_rate)/std\n",
    "    pf_return['sortino ratio'] = 0\n",
    "    pf_return['sortino ratio'] =  sortino_ratio\n",
    "    return pf_return['sortino ratio'] # a two column dataframe with the first column shows the date,\n",
    "                                      # and the second column gives the sortino ratio on a given day"
   ]
  },
  {
   "cell_type": "code",
   "execution_count": 8,
   "id": "b1579d19",
   "metadata": {},
   "outputs": [
    {
     "name": "stdout",
     "output_type": "stream",
     "text": [
      "[*********************100%***********************]  1 of 1 completed\n",
      "[*********************100%***********************]  1 of 1 completed\n",
      "[*********************100%***********************]  1 of 1 completed\n",
      "[*********************100%***********************]  1 of 1 completed\n",
      "[*********************100%***********************]  1 of 1 completed\n",
      "[*********************100%***********************]  1 of 1 completed\n"
     ]
    },
    {
     "data": {
      "text/plain": [
       "0           NaN\n",
       "1      2.683771\n",
       "2      5.983747\n",
       "3      1.240458\n",
       "4     -0.641329\n",
       "         ...   \n",
       "190   -0.727228\n",
       "191    2.488678\n",
       "192    0.784741\n",
       "193    0.202352\n",
       "194    2.549309\n",
       "Name: sortino ratio, Length: 195, dtype: float64"
      ]
     },
     "execution_count": 8,
     "metadata": {},
     "output_type": "execute_result"
    }
   ],
   "source": [
    "sortino_ratio(port1_tickers, [1/3, 1/3, 1/3], 0.000502)"
   ]
  },
  {
   "cell_type": "code",
   "execution_count": 9,
   "id": "4694f223",
   "metadata": {},
   "outputs": [
    {
     "name": "stdout",
     "output_type": "stream",
     "text": [
      "[*********************100%***********************]  1 of 1 completed\n",
      "[*********************100%***********************]  1 of 1 completed\n",
      "[*********************100%***********************]  1 of 1 completed\n",
      "[*********************100%***********************]  1 of 1 completed\n",
      "[*********************100%***********************]  1 of 1 completed\n",
      "[*********************100%***********************]  1 of 1 completed\n"
     ]
    },
    {
     "data": {
      "text/plain": [
       "0           NaN\n",
       "1     -0.906119\n",
       "2      5.391250\n",
       "3      0.330255\n",
       "4      0.593193\n",
       "         ...   \n",
       "194   -0.004185\n",
       "195    0.285015\n",
       "196   -0.804843\n",
       "197   -0.100788\n",
       "198   -0.165368\n",
       "Name: sortino ratio, Length: 199, dtype: float64"
      ]
     },
     "execution_count": 9,
     "metadata": {},
     "output_type": "execute_result"
    }
   ],
   "source": [
    "sortino_ratio(port2_tickers, [1/3, 1/3, 1/3], 0.000502)"
   ]
  }
 ],
 "metadata": {
  "kernelspec": {
   "display_name": "Python 3",
   "language": "python",
   "name": "python3"
  },
  "language_info": {
   "codemirror_mode": {
    "name": "ipython",
    "version": 3
   },
   "file_extension": ".py",
   "mimetype": "text/x-python",
   "name": "python",
   "nbconvert_exporter": "python",
   "pygments_lexer": "ipython3",
   "version": "3.8.8"
  }
 },
 "nbformat": 4,
 "nbformat_minor": 5
}
